{
 "cells": [
  {
   "cell_type": "markdown",
   "id": "ed4bfd8f-cff9-41eb-8809-bdcd74a275c2",
   "metadata": {
    "tags": []
   },
   "source": [
    "# Data Science Tools and Ecosystem"
   ]
  },
  {
   "cell_type": "markdown",
   "id": "2e399bd3-2188-468b-9f87-e3c4842d99aa",
   "metadata": {},
   "source": [
    "**Objectives:**\n",
    "- List the popular languages for Data Science.\n",
    "- Introduce each language characteristics.\n",
    "- Learn how to use each language and their platforms."
   ]
  },
  {
   "cell_type": "markdown",
   "id": "c5675b49-358f-43d7-8323-f58a8dec0db0",
   "metadata": {},
   "source": [
    "## Author\n",
    "Michael Liu"
   ]
  },
  {
   "cell_type": "markdown",
   "id": "026de5b6-60fb-4df4-9703-f4478f9b3232",
   "metadata": {},
   "source": [
    "In this notebook, Data Science Tools and Ecosystem are summarized.\n"
   ]
  },
  {
   "cell_type": "markdown",
   "id": "83793f74-d740-4fce-82be-58bc34642891",
   "metadata": {},
   "source": [
    "Some of the popular languages that Data Scientists use are:\n",
    "1. Python\n",
    "2. R\n",
    "3. C++"
   ]
  },
  {
   "cell_type": "markdown",
   "id": "6b4f754e-1bc1-447c-ae51-322968c451aa",
   "metadata": {},
   "source": [
    "Some of the commonly used libraries used by Data Scientists include:\n",
    "1. pandas\n",
    "2. Numpy\n",
    "3. Scikit-learn"
   ]
  },
  {
   "cell_type": "markdown",
   "id": "66d2c898-2ff6-41be-aad1-bf0dcf56c28d",
   "metadata": {},
   "source": [
    "||Data Science Tools|\n",
    "|------|-----|\n",
    "|1|Jupyter Notebook|\n",
    "|2|RStudio|\n",
    "|3|VS Code|"
   ]
  },
  {
   "cell_type": "markdown",
   "id": "1a090ff5-e23a-4c28-ae65-82c15876fd22",
   "metadata": {},
   "source": [
    "### Below are a few examples of evaluating arithmetic expressions in Python"
   ]
  },
  {
   "cell_type": "code",
   "execution_count": 1,
   "id": "42358ef9-e414-4cc6-97bc-d91971e210d4",
   "metadata": {
    "tags": []
   },
   "outputs": [
    {
     "data": {
      "text/plain": [
       "17"
      ]
     },
     "execution_count": 1,
     "metadata": {},
     "output_type": "execute_result"
    }
   ],
   "source": [
    "# This is a simple arithmetic expression to multiply then add integers\n",
    "(3*4)+5\n"
   ]
  },
  {
   "cell_type": "code",
   "execution_count": 6,
   "id": "3dbd4e30-3ad4-4ab6-8bdf-3174527a3afe",
   "metadata": {
    "tags": []
   },
   "outputs": [
    {
     "name": "stdout",
     "output_type": "stream",
     "text": [
      "200 minutes is equivalent to 3 hours 20 minutes.\n"
     ]
    }
   ],
   "source": [
    "#This will convert 200 minutes to hours by dividing by 60\n",
    "\n",
    "x = 200\n",
    "h = x // 60\n",
    "m = x % 60\n",
    "print(f\"{x} minutes is equivalent to {h} hours {m} minutes.\")\n"
   ]
  },
  {
   "cell_type": "code",
   "execution_count": null,
   "id": "81ba14f8-2c5a-4352-9d8d-d995e6799257",
   "metadata": {},
   "outputs": [],
   "source": []
  }
 ],
 "metadata": {
  "kernelspec": {
   "display_name": "Python",
   "language": "python",
   "name": "conda-env-python-py"
  },
  "language_info": {
   "codemirror_mode": {
    "name": "ipython",
    "version": 3
   },
   "file_extension": ".py",
   "mimetype": "text/x-python",
   "name": "python",
   "nbconvert_exporter": "python",
   "pygments_lexer": "ipython3",
   "version": "3.7.12"
  }
 },
 "nbformat": 4,
 "nbformat_minor": 5
}
